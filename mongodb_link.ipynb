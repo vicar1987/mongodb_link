{
 "cells": [
  {
   "cell_type": "code",
   "execution_count": 3,
   "metadata": {
    "ExecuteTime": {
     "end_time": "2021-06-29T01:23:08.660591Z",
     "start_time": "2021-06-29T01:23:08.616028Z"
    }
   },
   "outputs": [],
   "source": [
    "import pymongo\n",
    "\n",
    "client = pymongo.MongoClient(\"mongodb+srv://<username>:<password>@<db_name>.i2omj.mongodb.net/myFirstDatabase?retryWrites=true&w=majority\")\n",
    "db = client.db_name\n",
    "test = db.test\n",
    "test\n",
    "\n",
    "client.close()"
   ]
  },
  {
   "cell_type": "code",
   "execution_count": 2,
   "metadata": {
    "ExecuteTime": {
     "end_time": "2021-06-29T01:20:35.671494Z",
     "start_time": "2021-06-29T01:19:15.774629Z"
    }
   },
   "outputs": [],
   "source": [
    "import requests\n",
    "from bs4 import BeautifulSoup\n",
    "import pymongo\n",
    "import pandas as pd\n",
    "import csv\n",
    "import json\n",
    "\n",
    "client = pymongo.MongoClient(\"mongodb+srv://<username>:<password>@<db_name>.i2omj.mongodb.net/myFirstDatabase?retryWrites=true&w=majority\")\n",
    "db = client.<db_name>\n",
    "test = db.test\n",
    "\n",
    "form_data = {\n",
    "    'keyword': '香蕉',\n",
    "    'division_lv1': '*',\n",
    "    'year': 102,\n",
    "    'month': 1,\n",
    "    'end_year': 110,\n",
    "    'end_month': 6,\n",
    "    'search_Submit': '查詢',\n",
    "    'is_search': 'y'\n",
    "}\n",
    "\n",
    "headers = {\n",
    "    'User-Agent':'Mozilla/5.0 (Macintosh; Intel Mac OS X 10_14_5) AppleWebKit/537.36 (KHTML, like Gecko) Chrome/75.0.3770.142 Safari/537.36',\n",
    "}\n",
    "url = 'https://www.coa.gov.tw/theme_list.php?theme=news&sub_theme=agri'\n",
    "ss = requests.session()\n",
    "res = ss.post(url=url, headers=headers, data=form_data)\n",
    "soup = BeautifulSoup(res.text, 'html.parser')\n",
    "\n",
    "ID = []\n",
    "date = []\n",
    "title = []\n",
    "author = []\n",
    "link = []\n",
    "content = []\n",
    "\n",
    "\n",
    "# 取文號\n",
    "for a in soup.select('td[class=\"word\"]'):\n",
    "    ID.append(a.text)\n",
    "\n",
    "# 取發布日期\n",
    "for b in range(1, len(soup.select('td[align=\"center\"]')), 3):\n",
    "    newsDate = soup.select('td[align=\"center\"]')[b]\n",
    "    date.append(newsDate.text)\n",
    "\n",
    "# 取發布機關\n",
    "for c in range(2, len(soup.select('td[align=\"center\"]')), 3):\n",
    "    newsAuthor = soup.select('td[align=\"center\"]')[c]\n",
    "    author.append(newsAuthor.text)\n",
    "\n",
    "# 取新聞標題、網址\n",
    "for i in range(0, len(soup.select('a[class=\"main-c9-index\"]'))):\n",
    "    newsTitle = soup.select('a[class=\"main-c9-index\"]')[i]['title']\n",
    "    newsLink = 'https://www.coa.gov.tw/' + soup.select('a[class=\"main-c9-index\"]')[i]['href']\n",
    "    title.append(newsTitle)\n",
    "    link.append(newsLink)\n",
    "\n",
    "# 取新聞內容\n",
    "for j in range(len(link)):\n",
    "    page_res = ss.get(url=link[j], headers=headers)\n",
    "    page_soap = BeautifulSoup(page_res.text, 'html.parser')\n",
    "    for w in page_soap.select('div[class=\"word\"]'):\n",
    "        content.append (w.text)\n",
    "\n",
    "dict = {'文號': ID, '發布日期': date, '標題': title, '發布機關': author, '網址': link, '內容': content}\n",
    "df = pd.DataFrame(dict)\n",
    "df.to_csv('測試用新聞_香蕉.csv', index=False)\n",
    "\n",
    "data = pd.read_csv('測試用新聞_香蕉.csv',encoding = 'UTF-8')\n",
    "data_json = json.loads(data.to_json(orient='records'))\n",
    "test.insert_many(data_json)\n",
    "\n",
    "client.close()"
   ]
  },
  {
   "cell_type": "code",
   "execution_count": null,
   "metadata": {},
   "outputs": [],
   "source": []
  }
 ],
 "metadata": {
  "kernelspec": {
   "display_name": "Python 3",
   "language": "python",
   "name": "python3"
  },
  "language_info": {
   "codemirror_mode": {
    "name": "ipython",
    "version": 3
   },
   "file_extension": ".py",
   "mimetype": "text/x-python",
   "name": "python",
   "nbconvert_exporter": "python",
   "pygments_lexer": "ipython3",
   "version": "3.8.5"
  },
  "toc": {
   "base_numbering": 1,
   "nav_menu": {},
   "number_sections": true,
   "sideBar": true,
   "skip_h1_title": false,
   "title_cell": "Table of Contents",
   "title_sidebar": "Contents",
   "toc_cell": false,
   "toc_position": {},
   "toc_section_display": true,
   "toc_window_display": false
  },
  "varInspector": {
   "cols": {
    "lenName": 16,
    "lenType": 16,
    "lenVar": 40
   },
   "kernels_config": {
    "python": {
     "delete_cmd_postfix": "",
     "delete_cmd_prefix": "del ",
     "library": "var_list.py",
     "varRefreshCmd": "print(var_dic_list())"
    },
    "r": {
     "delete_cmd_postfix": ") ",
     "delete_cmd_prefix": "rm(",
     "library": "var_list.r",
     "varRefreshCmd": "cat(var_dic_list()) "
    }
   },
   "types_to_exclude": [
    "module",
    "function",
    "builtin_function_or_method",
    "instance",
    "_Feature"
   ],
   "window_display": false
  }
 },
 "nbformat": 4,
 "nbformat_minor": 4
}
